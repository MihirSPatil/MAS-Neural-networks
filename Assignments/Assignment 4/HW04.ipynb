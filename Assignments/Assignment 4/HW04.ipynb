{
 "cells": [
  {
   "cell_type": "markdown",
   "metadata": {},
   "source": [
    " # Assignment 4:\n",
    "* Mihir Patil\n",
    "* Swaroop Bhandary\n",
    "* Erick Kramer"
   ]
  },
  {
   "cell_type": "code",
   "execution_count": 1,
   "metadata": {},
   "outputs": [],
   "source": [
    "import matplotlib.pyplot as plt\n",
    "import random\n",
    "import numpy as np"
   ]
  },
  {
   "cell_type": "markdown",
   "metadata": {},
   "source": [
    "## Consistent learner\n",
    "\n",
    "A learner is consistent if it outputs hypotheses that perfectly fit the training data, whenever possible. It is quite reasonable to ask that a learning algorithm be consistent, given that we typically prefer a hypothesis that fits the training data over one that does not."
   ]
  },
  {
   "cell_type": "markdown",
   "metadata": {},
   "source": [
    "Write a consistent learner for Hr from last Exercise (i.e. Hr = {((a < x < b)⋀(c < y < d)) | a, b,c, d ∈ IR } ). Generate a variety of target concept rectangles at random, corresponding to different rectangles in the plane. Generate random examples of each of these target concepts, based on a uniform distribution of instances within the rectangle from (0,0) to (100, 100)."
   ]
  },
  {
   "cell_type": "code",
   "execution_count": 2,
   "metadata": {},
   "outputs": [],
   "source": [
    "class Rectangle:\n",
    "    def __init__(self, max_width, max_height):\n",
    "        self.max_height = max_height\n",
    "        self.max_width = max_width\n",
    "    \n",
    "    def randomRectangles(self):\n",
    "        self.pointA_x = random.randint(1,25)\n",
    "        self.pointA_y = self.pointA_x\n",
    "        self.randomHeight = random.randint(5,self.max_height)\n",
    "        self.randomWidht = random.randint(5,self.max_width)\n",
    "        \n",
    "        print('Rectangle with an origin at {},{} and height of {} and widht of {}'\\\n",
    "                          .format(self.pointA_x, self.pointA_y,self.randomHeight, \\\n",
    "                                  self.randomWidht))       \n",
    "        return plt.Rectangle((self.pointA_x,self.pointA_y), self.randomWidht, \\\n",
    "                             self.randomHeight, angle=0.0, \\\n",
    "                             facecolor='none', edgecolor='r', linewidth=3)\n",
    "    \n",
    "    def dataInsideRectangle(self):\n",
    "        dataX = np.random.uniform(self.pointA_x + 1,self.pointA_x + self.randomWidht \\\n",
    "                                  - 1 ,10)\n",
    "        dataY = np.random.uniform(self.pointA_y + 1,self.pointA_y + self.randomHeight \\\n",
    "                                  - 1,10)\n",
    "        return dataX, dataY\n",
    "    \n",
    "    def dataOutsideRectangle(self):\n",
    "        # Outter limits of the data\n",
    "        eastLimit = self.pointA_x - 5\n",
    "        southLimit = self.pointA_y - 5\n",
    "        westLimit = self.pointA_x + self.randomWidht + 5\n",
    "        northLimit = self.pointA_y + self.randomHeight + 5\n",
    "        \n",
    "        # Limits surrounding the rectangle\n",
    "        eastBorder = self.pointA_x - 2\n",
    "        southBorder = self.pointA_y - 2\n",
    "        westBorder = self.pointA_x + self.randomWidht + 2\n",
    "        northBorder = self.pointA_y + self.randomHeight + 2\n",
    "        \n",
    "        dataXEast = np.random.uniform(eastLimit, eastBorder, 10)\n",
    "        dataYEast = np.random.uniform(southLimit, northLimit, 10)\n",
    "        \n",
    "        dataXSouth = np.random.uniform(eastLimit, westLimit, 10)\n",
    "        dataYSouth = np.random.uniform(southLimit, southBorder, 10)\n",
    "        \n",
    "        dataXWest = np.random.uniform(westBorder, westLimit, 10)\n",
    "        dataYWest = np.random.uniform(southLimit, northLimit, 10)\n",
    "        \n",
    "        dataXNorth = np.random.uniform(eastLimit, westLimit, 10)\n",
    "        dataYNorth = np.random.uniform(northBorder, northLimit, 10)\n",
    "        \n",
    "        dataX = np.hstack((dataXEast, dataXSouth, dataXWest, dataXNorth))\n",
    "        dataY = np.hstack((dataYEast, dataYSouth, dataYWest, dataYNorth))\n",
    "        \n",
    "        return dataX, dataY\n",
    "    \n",
    "    def addLabels(self):\n",
    "        # Label for the concept rectangle\n",
    "        plt.annotate('c', (self.pointA_x, self.pointA_x + self.randomHeight +0.5))"
   ]
  },
  {
   "cell_type": "code",
   "execution_count": 43,
   "metadata": {},
   "outputs": [
    {
     "name": "stdout",
     "output_type": "stream",
     "text": [
      "Rectangle with an origin at 14,14 and height of 6 and widht of 18\n"
     ]
    },
    {
     "data": {
      "image/png": "[encoded data removed]",
      "text/plain": [
       "<Figure size 432x288 with 1 Axes>"
      ]
     },
     "metadata": {},
     "output_type": "display_data"
    }
   ],
   "source": [
    "rect = Rectangle(20,10)\n",
    "# Generate random rectangle\n",
    "rec = rect.randomRectangles()\n",
    "# Generate data inside the rectangle\n",
    "dataX_in, dataY_in = rect.dataInsideRectangle()\n",
    "\n",
    "# Generate data outside the rectangle\n",
    "dataX_out, dataY_out = rect.dataOutsideRectangle()\n",
    "\n",
    "# Plot rectangle\n",
    "plt.axes()\n",
    "\n",
    "rect.addLabels()\n",
    "plt.scatter(dataX_in, dataY_in, marker='+', c='g',s=100)\n",
    "plt.scatter(dataX_out, dataY_out, marker='_', c='k',s=100)\n",
    "plt.gca().add_patch(rec)\n",
    "plt.axis('auto')\n",
    "# plt.xlim(0,40)\n",
    "# plt.ylim(0,40)\n",
    "plt.show()"
   ]
  },
  {
   "cell_type": "code",
   "execution_count": null,
   "metadata": {},
   "outputs": [],
   "source": []
  },
  {
   "cell_type": "markdown",
   "metadata": {},
   "source": [
    "Plot the generalization error as a function of the number of training examples, m. On the same graph, plot the theoretical relationship between e and m, for d = .95. Does theory fit experiment?"
   ]
  },
  {
   "cell_type": "code",
   "execution_count": null,
   "metadata": {},
   "outputs": [],
   "source": []
  },
  {
   "cell_type": "markdown",
   "metadata": {},
   "source": [
    "Consider training a two-input perceptron. Give an upper bound on the number of training examples sufficient to assure with 90%  confidence that the learned perceptron will have true error of at most 5%. Does this bound seem realistic?"
   ]
  },
  {
   "cell_type": "code",
   "execution_count": null,
   "metadata": {},
   "outputs": [],
   "source": [
    "# We want the number of training examples \n",
    "# We need the true error to be 5% with a confidence of 90% =  (1 - \\etha)\n",
    "# Need the VC dimension of a two-input perceptron O(W log W)\n",
    "# True error is the error calculated w.r.t. to the data distribution\n",
    "# Upperbounding is for instance \n",
    "# Testerror <= TrainError (Test error is upperbounded by the training error)\n",
    "# Maybe PAC Learning theory could help\n",
    "# ----- We need the number of hypothesis H \n",
    "m >= (1/epsilon)((ln H) + ln(1/delta))\n",
    "m >= (1/0.05)((ln H) + ln(1/0.05))\n"
   ]
  },
  {
   "cell_type": "markdown",
   "metadata": {},
   "source": [
    "Consider the class C  of concepts of the form (a <= x <= b) AND (c<=y <= d),  where a ,b , c , and d  are integers in the interval (0,99). Note each concept in this class correspondsto a rectangle with integer-valued boundaries on a portion of the x, y  plane. Hint: Given a region in the plane bounded by the points (0,0)  and (n -1 , n - I),  the number of distinct rectangles with integer-valued boundaries within this region is 1/4 *  n(n+1)^2\n",
    "\n",
    "\n",
    "a.  Give an upper bound on the number of randomly drawn training examples sufficient to assure that for any target concept c  in C,  any consistent learner using H = C  will, with probability 95%, output a hypothesis with error at most 0.15 !\n",
    "\n",
    "b. Now suppose the rectangle boundaries a, b, c,  and d  take on real values instead of integer values. Update your answer to the first part of this question."
   ]
  }
 ],
 "metadata": {
  "kernelspec": {
   "display_name": "Python 3",
   "language": "python",
   "name": "python3"
  },
  "language_info": {
   "codemirror_mode": {
    "name": "ipython",
    "version": 3
   },
   "file_extension": ".py",
   "mimetype": "text/x-python",
   "name": "python",
   "nbconvert_exporter": "python",
   "pygments_lexer": "ipython3",
   "version": "3.5.2"
  }
 },
 "nbformat": 4,
 "nbformat_minor": 2
}
